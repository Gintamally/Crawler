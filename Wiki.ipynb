{
 "cells": [
  {
   "cell_type": "code",
   "execution_count": 1,
   "metadata": {},
   "outputs": [],
   "source": [
    "import requests\n",
    "import re\n",
    "from bs4 import BeautifulSoup\n",
    "import os"
   ]
  },
  {
   "cell_type": "code",
   "execution_count": 2,
   "metadata": {},
   "outputs": [],
   "source": [
    "def WikiArticle(key_word_link, key_word, recursive):\n",
    "    \n",
    "    if (recursive <= max_recursive_depth):\n",
    "        print(\"遞迴層[%d] - %s (%s)\" % (recursive, key_word_link, key_word))\n",
    "        \n",
    "        # 模擬封包的標頭\n",
    "        headers = {\n",
    "            'authority': 'zh.wikipedia.org',\n",
    "            'method': 'GET',\n",
    "            'path': '/wiki/' + key_word_link,\n",
    "            'scheme': 'https',\n",
    "            'accept': 'text/html,application/xhtml+xml,application/xml;q=0.9,image/webp,image/apng,*/*;q=0.8,application/signed-exchange;v=b3',\n",
    "            'accept-encoding': 'gzip, deflate, br',\n",
    "            'accept-language': 'zh-TW,zh;q=0.9,en-US;q=0.8,en;q=0.7,zh-CN;q=0.6',\n",
    "            'cookie': 'GeoIP=TW:TPE:Taipei:25.05:121.53:v4; TBLkisOn=0; mwPhp7Seed=8b8; WMF-Last-Access-Global=04-Jun-2019; WMF-Last-Access=04-Jun-2019',\n",
    "            'dnt': '1',\n",
    "            #'if-modified-since': 'Tue, 04 Jun 2019 12:03:22 GMT',\n",
    "            'referer': 'https://zh.wikipedia.org/wiki/Wikipedia:%E9%A6%96%E9%A1%B5',\n",
    "            'upgrade-insecure-requests': '1',\n",
    "            'user-agent': 'Mozilla/5.0 (Windows NT 10.0; Win64; x64) AppleWebKit/537.36 (KHTML, like Gecko) Chrome/74.0.3729.169 Safari/537.36'\n",
    "        }    \n",
    "\n",
    "        url = 'https://zh.wikipedia.org' + key_word_link  # 組合關鍵字查詢URL\n",
    "        resp = requests.get(url, headers=headers)\n",
    "        resp.encoding = 'utf-8'\n",
    "\n",
    "        html = BeautifulSoup(resp.text, \"lxml\")\n",
    "        content = html.find(name='div', attrs={'id':'mw-content-text'}).find_all(name='p')\n",
    "        \n",
    "\n",
    "        if '%s'% input_keyword +'.txt' in os.listdir('./WikiArticle/'):  # 如果已存在則刪除\n",
    "            os.remove('./WikiArticle/%s'% input_keyword +'.txt')    \n",
    "        for paragraph in content:\n",
    "            #print(paragraph.get_text())\n",
    "            with open('./WikiArticle/%s' % input_keyword +'.txt', 'a', encoding='utf-8' ) as at:\n",
    "                at.write(paragraph.get_text())\n",
    "        \n",
    "\n",
    "        external_link_dict = dict({})\n",
    "\n",
    "        for ext_link in content:\n",
    "            a_tag = ext_link.find_all('a', href=re.compile(\"^(/wiki/)((?!;)\\S)*$\"))\n",
    "            if len(a_tag) > 0:\n",
    "                for link_string in a_tag:\n",
    "                    a_link = link_string[\"href\"]       # 外部連結的網址\n",
    "                    a_keyword = link_string.get_text()  # 外部連結的中文名稱\n",
    "                    #print(\"外部連結: [%s] %s\" % (a_keyword, a_link))\n",
    "                    external_link_dict[a_keyword] = a_link\n",
    "\n",
    "        if (len(external_link_dict) > 0):\n",
    "            \n",
    "            recursive = recursive + 1  # 遞迴深度加1\n",
    "            \n",
    "            for k, v in external_link_dict.items():\n",
    "                WikiArticle(v, k, recursive)  # 再次呼叫同樣的函數，執行同樣的流程\n",
    "                "
   ]
  },
  {
   "cell_type": "code",
   "execution_count": 3,
   "metadata": {},
   "outputs": [
    {
     "name": "stdout",
     "output_type": "stream",
     "text": [
      "魔獸世界: %E9%AD%94%E7%8D%B8%E4%B8%96%E7%95%8C\n",
      "/wiki/%E9%AD%94%E7%8D%B8%E4%B8%96%E7%95%8C\n"
     ]
    }
   ],
   "source": [
    "input_keyword = \"魔獸世界\"  # 這裡可以自己定義有興趣的關鍵字\n",
    "\n",
    "utf8_url = repr(input_keyword.encode('UTF-8')).upper()  # 編碼成UTF-8並轉成大寫字元\n",
    "utf8_url = utf8_url.replace(\"\\\\X\", \"%\")                 # 用 '%' 取代 '\\X' \n",
    "print(\"%s: %s\" % (input_keyword, utf8_url[2:-1:1]))     # 擷取中間的編碼結果\n",
    "\n",
    "# 組成Wiki關鍵字搜尋的網址格式\n",
    "root_keyword_link = '/wiki/' + utf8_url[2:-1:1]\n",
    "print(root_keyword_link)"
   ]
  },
  {
   "cell_type": "code",
   "execution_count": null,
   "metadata": {},
   "outputs": [
    {
     "name": "stdout",
     "output_type": "stream",
     "text": [
      "遞迴層[0] - /wiki/%E9%AD%94%E7%8D%B8%E4%B8%96%E7%95%8C (魔獸世界)\n",
      "遞迴層[1] - /wiki/%E7%B8%AE%E5%AF%AB (縮寫)\n",
      "遞迴層[2] - /wiki/%E6%8B%89%E4%B8%81%E8%AF%AD (拉丁語)\n",
      "遞迴層[2] - /wiki/%E8%AF%AD%E8%A8%80%E5%AD%A6 (語言學)\n",
      "遞迴層[2] - /wiki/%E7%AE%80%E7%A7%B0 (簡稱)\n",
      "遞迴層[2] - /wiki/%E9%A6%96%E5%AD%97%E6%AF%8D%E7%BC%A9%E7%95%A5%E5%AD%97 (首字母縮略詞)\n",
      "遞迴層[2] - /wiki/%E8%8B%B1%E8%AA%9E (英語)\n",
      "遞迴層[2] - /wiki/%E6%B3%95%E8%AA%9E (法語)\n",
      "遞迴層[2] - /wiki/%E9%9F%B3%E8%8A%82 (音節)\n",
      "遞迴層[2] - /wiki/%E6%B7%B7%E6%88%90%E8%A9%9E (混成詞)\n",
      "遞迴層[2] - /wiki/%E5%BE%B7%E8%AA%9E (德語)\n",
      "遞迴層[2] - /wiki/%E4%BF%84%E8%AA%9E (俄語)\n",
      "遞迴層[2] - /wiki/%E7%BA%B3%E7%B2%B9%E5%BE%B7%E5%9B%BD (納粹時期)\n",
      "遞迴層[2] - /wiki/%E5%BE%B7%E5%9B%BD (德國)\n",
      "遞迴層[2] - /wiki/%E8%98%87%E8%81%AF (蘇聯)\n",
      "遞迴層[2] - /wiki/%E4%B8%9C%E5%BE%B7 (東德)\n",
      "遞迴層[2] - /wiki/%E8%A9%9E_(%E8%AA%9E%E8%A8%80) (詞)\n",
      "遞迴層[2] - /wiki/%E8%AF%AD%E7%B4%A0 (語素)\n",
      "遞迴層[2] - /wiki/%E6%B1%89%E8%AF%AD (漢語)\n",
      "遞迴層[2] - /wiki/%E6%97%A5%E8%AF%AD (日語)\n",
      "遞迴層[2] - /wiki/%E5%AD%A4%E7%AB%8B%E8%AF%AD (孤立語)\n",
      "遞迴層[1] - /wiki/%E6%9A%B4%E9%9B%AA%E5%A8%9B%E6%A8%82 (暴雪娛樂)\n",
      "遞迴層[2] - /wiki/%E9%9B%BB%E5%AD%90%E9%81%8A%E6%88%B2 (電子遊戲)\n",
      "遞迴層[2] - /wiki/%E5%8A%A0%E5%88%A9%E7%A6%8F%E5%B0%BC%E4%BA%9A%E5%A4%A7%E5%AD%A6%E6%B4%9B%E6%9D%89%E7%9F%B6%E5%88%86%E6%A0%A1 (加利福尼亞大學洛杉磯分校)\n",
      "遞迴層[2] - /wiki/%E8%BF%88%E5%85%8B%E5%B0%94%C2%B7%E8%8E%AB%E6%80%80%E7%B1%B3 (麥可·莫懷米)\n",
      "遞迴層[2] - /wiki/%E8%89%BE%E4%BC%A6%C2%B7%E9%98%BF%E5%BE%B7%E6%B1%97 (艾倫·阿德汗)\n",
      "遞迴層[2] - /wiki/%E5%BC%97%E5%85%B0%E5%85%8B%C2%B7%E7%9A%AE%E5%B0%94%E6%96%AF (弗蘭克·皮爾斯)\n",
      "遞迴層[2] - /wiki/%E5%8A%A0%E5%88%A9%E7%A6%8F%E5%B0%BC%E4%BA%9E%E5%B7%9E (加利福尼亞州)\n",
      "遞迴層[2] - /wiki/%E7%88%BE%E7%81%A3 (爾灣)\n",
      "遞迴層[2] - /wiki/PC%E6%B8%B8%E6%88%8F (PC遊戲界)\n",
      "遞迴層[2] - /wiki/%E9%AD%94%E7%8D%B8%E7%88%AD%E9%9C%B8 (魔獸爭霸)\n",
      "遞迴層[2] - /wiki/%E6%98%9F%E6%B5%B7%E7%88%AD%E9%9C%B8 (星海爭霸)\n",
      "遞迴層[2] - /wiki/%E6%9A%97%E9%BB%91%E7%A0%B4%E5%9D%8F%E7%A5%9E_(%E6%B8%B8%E6%88%8F) (暗黑破壞神)\n",
      "遞迴層[2] - /wiki/%E9%9B%BB%E5%AD%90%E7%AB%B6%E6%8A%80 (電子競技)\n",
      "遞迴層[2] - /wiki/%E5%8A%A8%E8%A7%86%E6%9A%B4%E9%9B%AA (動視暴雪)\n",
      "遞迴層[2] - /wiki/%E9%9B%AA%E4%B9%90%E5%B1%B1 (雪樂山線上)\n",
      "遞迴層[2] - /wiki/%E6%B1%BD%E8%BB%8A%E7%A7%9F%E8%B3%83 (汽車租賃)\n",
      "遞迴層[2] - /wiki/Havas (Havas)\n",
      "遞迴層[2] - /wiki/%E7%BB%B4%E6%97%BA%E8%BF%AA (威望迪)\n",
      "遞迴層[2] - /wiki/%E9%9B%AA%E4%B9%90%E5%B1%B1 (雪樂山)\n",
      "遞迴層[2] - /wiki/%E7%BB%B4%E6%97%BA%E8%BF%AA%E6%B8%B8%E6%88%8F (威望迪遊戲)\n",
      "遞迴層[2] - /wiki/%E7%BD%91%E6%98%93 (網易)\n",
      "遞迴層[2] - /wiki/%E6%99%BA%E5%87%A1%E8%BF%AA (智凡迪)\n",
      "遞迴層[2] - /wiki/%E6%9A%97%E9%BB%91%E7%A0%B4%E5%A3%9E%E7%A5%9EII (暗黑破壞神II)\n",
      "遞迴層[2] - /wiki/%E6%98%9F%E6%B5%B7%E4%BA%89%E9%9C%B8%EF%BC%9A%E6%80%92%E7%81%AB%E7%87%8E%E5%8E%9F (星海争霸：怒火燎原)\n",
      "遞迴層[2] - /wiki/%E6%9A%97%E9%BB%91%E7%A0%B4%E5%A3%9E%E7%A5%9EII%EF%BC%9A%E6%AF%80%E6%BB%85%E4%B9%8B%E7%8E%8B (暗黑破壞神Ⅱ：毀滅之王)\n",
      "遞迴層[2] - /wiki/%E9%AD%94%E5%85%BD%E4%BA%89%E9%9C%B8II (魔獸爭霸II)\n",
      "遞迴層[2] - /wiki/%E9%AD%94%E7%8D%B8%E7%88%AD%E9%9C%B8III (魔獸爭霸III)\n",
      "遞迴層[2] - /wiki/%E9%AD%94%E7%8D%B8%E7%88%AD%E9%9C%B8III%EF%BC%9A%E5%AF%92%E5%86%B0%E9%9C%B8%E6%AC%8A (魔獸爭霸III：寒冰霸權)\n",
      "遞迴層[2] - /wiki/%E9%AD%94%E5%85%BD%E4%B8%96%E7%95%8C (魔獸世界)\n",
      "遞迴層[2] - /wiki/%E6%98%9F%E9%9A%9B%E7%88%AD%E9%9C%B8II (星際爭霸II)\n",
      "遞迴層[2] - /wiki/%E6%9A%97%E9%BB%91%E7%A0%B4%E5%A3%9E%E7%A5%9EIII (暗黑破壞神III)\n",
      "遞迴層[2] - /wiki/%E4%BA%92%E8%81%AF%E7%B6%B2 (網際網路)\n",
      "遞迴層[2] - /wiki/%E9%80%86%E5%90%91%E5%B7%A5%E7%A8%8B (逆向工程)\n",
      "遞迴層[2] - /wiki/%E6%95%B8%E5%AD%97%E5%8D%83%E7%A6%A7%E5%B9%B4%E7%89%88%E6%AC%8A%E6%B3%95%E6%A1%88 (數字千禧年著作權法案)\n",
      "遞迴層[2] - /wiki/%E7%9B%9C%E7%89%88 (盜版)\n",
      "遞迴層[2] - /wiki/%E7%94%B5%E5%AD%90%E8%BE%B9%E7%95%8C%E5%9F%BA%E9%87%91%E4%BC%9A (電子邊界基金會)\n",
      "遞迴層[2] - /wiki/%E8%BB%9F%E4%BB%B6 (軟體)\n",
      "遞迴層[2] - /wiki/%E6%9C%80%E7%B5%82%E7%94%A8%E6%88%B6%E8%A8%B1%E5%8F%AF%E5%8D%94%E8%AD%B0 (最終用戶許可協定)\n",
      "遞迴層[2] - /wiki/%E8%BF%9B%E7%A8%8B (進程)\n",
      "遞迴層[2] - /wiki/%E9%96%93%E8%AB%9C%E8%BB%9F%E4%BB%B6 (間諜軟體)\n",
      "遞迴層[2] - /wiki/%E7%A7%81%E9%9A%B1 (隱私)\n",
      "遞迴層[2] - /wiki/Linux (Linux)\n",
      "遞迴層[2] - /wiki/%E6%96%B9%E6%AD%A3%E9%9B%86%E5%9B%A2 (方正電子)\n"
     ]
    }
   ],
   "source": [
    "max_recursive_depth = 2\n",
    "\n",
    "WikiArticle(root_keyword_link, input_keyword, 0)"
   ]
  },
  {
   "cell_type": "code",
   "execution_count": null,
   "metadata": {},
   "outputs": [],
   "source": []
  }
 ],
 "metadata": {
  "kernelspec": {
   "display_name": "Python 3",
   "language": "python",
   "name": "python3"
  },
  "language_info": {
   "codemirror_mode": {
    "name": "ipython",
    "version": 3
   },
   "file_extension": ".py",
   "mimetype": "text/x-python",
   "name": "python",
   "nbconvert_exporter": "python",
   "pygments_lexer": "ipython3",
   "version": "3.6.5"
  }
 },
 "nbformat": 4,
 "nbformat_minor": 2
}
